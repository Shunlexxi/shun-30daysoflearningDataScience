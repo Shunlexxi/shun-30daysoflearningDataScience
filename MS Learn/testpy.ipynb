{
 "cells": [
  {
   "cell_type": "code",
   "execution_count": null,
   "metadata": {},
   "outputs": [],
   "source": [
    "print('hello, Python')"
   ]
  }
 ],
 "metadata": {
  "kernelspec": {
   "display_name": "Python 3.9.5 64-bit",
   "language": "python",
   "name": "python3"
  },
  "language_info": {
   "name": "python",
   "version": "3.9.5"
  },
  "orig_nbformat": 4,
  "vscode": {
   "interpreter": {
    "hash": "ff7329570505af9dcc13900ce6811dd9440f97a2750f87b0b770a62d435e77bd"
   }
  }
 },
 "nbformat": 4,
 "nbformat_minor": 2
}
